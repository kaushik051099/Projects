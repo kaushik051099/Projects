{
 "cells": [
  {
   "cell_type": "markdown",
   "id": "623b4e16",
   "metadata": {
    "_cell_guid": "b1076dfc-b9ad-4769-8c92-a6c4dae69d19",
    "_uuid": "8f2839f25d086af736a60e9eeb907d3b93b6e0e5",
    "execution": {
     "iopub.execute_input": "2024-09-24T20:56:46.077767Z",
     "iopub.status.busy": "2024-09-24T20:56:46.077187Z",
     "iopub.status.idle": "2024-09-24T20:59:36.204985Z",
     "shell.execute_reply": "2024-09-24T20:59:36.203242Z",
     "shell.execute_reply.started": "2024-09-24T20:56:46.077724Z"
    },
    "papermill": {
     "duration": 0.006474,
     "end_time": "2024-09-24T21:19:21.785131",
     "exception": false,
     "start_time": "2024-09-24T21:19:21.778657",
     "status": "completed"
    },
    "tags": []
   },
   "source": [
    "NLP with NLTK: Text Analysis of Emma by Jane Austen\n",
    "\n",
    "Introduction\n",
    "\n",
    "In this notebook, I use Natural Language Processing (NLP) techniques with the NLTK library to analyze the text of Emma by Jane Austen. My goal is to explore key NLP tasks such as tokenization, frequency distribution, bigram collocations, part-of-speech (POS) tagging, and named entity recognition (NER).\n",
    "\n",
    "Objective:\n",
    "\n",
    "Tokenize the text into words and sentences.\n",
    "Analyze word frequencies and find common collocations.\n",
    "Preprocess the text by removing stopwords and punctuation.\n",
    "Perform POS tagging and Named Entity Recognition (NER).\n",
    "1. Installing and Importing NLTK\n",
    "\n",
    "I first install and import the necessary libraries and datasets from NLTK. This includes downloading the Gutenberg corpus (which contains the text of Emma) along with other NLTK resources like stopwords and tagging tools.# Install and Import NLTK\n",
    "!pip install nltk\n",
    "import nltk\n",
    "from nltk.corpus import gutenberg\n",
    "from nltk.tokenize import word_tokenize, sent_tokenize\n",
    "from nltk.probability import FreqDist\n",
    "from nltk.collocations import BigramCollocationFinder\n",
    "from nltk.metrics import BigramAssocMeasures\n",
    "from nltk.corpus import stopwords\n",
    "import string\n",
    "import matplotlib.pyplot as plt\n"
   ]
  },
  {
   "cell_type": "code",
   "execution_count": 1,
   "id": "c115dba6",
   "metadata": {
    "execution": {
     "iopub.execute_input": "2024-09-24T21:19:21.799224Z",
     "iopub.status.busy": "2024-09-24T21:19:21.798426Z",
     "iopub.status.idle": "2024-09-24T21:19:36.596891Z",
     "shell.execute_reply": "2024-09-24T21:19:36.595853Z"
    },
    "papermill": {
     "duration": 14.808283,
     "end_time": "2024-09-24T21:19:36.599553",
     "exception": false,
     "start_time": "2024-09-24T21:19:21.791270",
     "status": "completed"
    },
    "tags": []
   },
   "outputs": [
    {
     "name": "stdout",
     "output_type": "stream",
     "text": [
      "Requirement already satisfied: nltk in /opt/conda/lib/python3.10/site-packages (3.2.4)\r\n",
      "Requirement already satisfied: six in /opt/conda/lib/python3.10/site-packages (from nltk) (1.16.0)\r\n"
     ]
    }
   ],
   "source": [
    "# Install and Import NLTK\n",
    "!pip install nltk\n",
    "import nltk\n",
    "from nltk.corpus import gutenberg\n",
    "from nltk.tokenize import word_tokenize, sent_tokenize\n",
    "from nltk.probability import FreqDist\n",
    "from nltk.collocations import BigramCollocationFinder\n",
    "from nltk.metrics import BigramAssocMeasures\n",
    "from nltk.corpus import stopwords\n",
    "import string\n",
    "import matplotlib.pyplot as plt\n"
   ]
  },
  {
   "cell_type": "markdown",
   "id": "5f5cc79b",
   "metadata": {
    "papermill": {
     "duration": 0.006547,
     "end_time": "2024-09-24T21:19:36.612951",
     "exception": false,
     "start_time": "2024-09-24T21:19:36.606404",
     "status": "completed"
    },
    "tags": []
   },
   "source": [
    "I then download all the necessary datasets:"
   ]
  },
  {
   "cell_type": "code",
   "execution_count": 2,
   "id": "444151b3",
   "metadata": {
    "execution": {
     "iopub.execute_input": "2024-09-24T21:19:36.628126Z",
     "iopub.status.busy": "2024-09-24T21:19:36.627487Z",
     "iopub.status.idle": "2024-09-24T21:21:36.846447Z",
     "shell.execute_reply": "2024-09-24T21:21:36.845230Z"
    },
    "papermill": {
     "duration": 120.235914,
     "end_time": "2024-09-24T21:21:36.855504",
     "exception": false,
     "start_time": "2024-09-24T21:19:36.619590",
     "status": "completed"
    },
    "tags": []
   },
   "outputs": [
    {
     "name": "stdout",
     "output_type": "stream",
     "text": [
      "[nltk_data] Error loading gutenberg: <urlopen error [Errno -3]\n",
      "[nltk_data]     Temporary failure in name resolution>\n",
      "[nltk_data] Error loading punkt: <urlopen error [Errno -3] Temporary\n",
      "[nltk_data]     failure in name resolution>\n",
      "[nltk_data] Error loading stopwords: <urlopen error [Errno -3]\n",
      "[nltk_data]     Temporary failure in name resolution>\n",
      "[nltk_data] Error loading averaged_perceptron_tagger: <urlopen error\n",
      "[nltk_data]     [Errno -3] Temporary failure in name resolution>\n",
      "[nltk_data] Error loading maxent_ne_chunker: <urlopen error [Errno -3]\n",
      "[nltk_data]     Temporary failure in name resolution>\n",
      "[nltk_data] Error loading words: <urlopen error [Errno -3] Temporary\n",
      "[nltk_data]     failure in name resolution>\n"
     ]
    },
    {
     "data": {
      "text/plain": [
       "False"
      ]
     },
     "execution_count": 2,
     "metadata": {},
     "output_type": "execute_result"
    }
   ],
   "source": [
    "nltk.download('gutenberg')\n",
    "nltk.download('punkt')\n",
    "nltk.download('stopwords')\n",
    "nltk.download('averaged_perceptron_tagger')\n",
    "nltk.download('maxent_ne_chunker')\n",
    "nltk.download('words')"
   ]
  },
  {
   "cell_type": "markdown",
   "id": "68243153",
   "metadata": {
    "papermill": {
     "duration": 0.006985,
     "end_time": "2024-09-24T21:21:36.869795",
     "exception": false,
     "start_time": "2024-09-24T21:21:36.862810",
     "status": "completed"
    },
    "tags": []
   },
   "source": [
    "2. Loading the Text\n",
    "\n",
    "Next, I load the text of Emma from the NLTK Gutenberg corpus and display the first few sentences and words to better understand the data."
   ]
  },
  {
   "cell_type": "code",
   "execution_count": 3,
   "id": "eb48e533",
   "metadata": {
    "execution": {
     "iopub.execute_input": "2024-09-24T21:21:36.887177Z",
     "iopub.status.busy": "2024-09-24T21:21:36.886093Z",
     "iopub.status.idle": "2024-09-24T21:21:39.557187Z",
     "shell.execute_reply": "2024-09-24T21:21:39.556102Z"
    },
    "papermill": {
     "duration": 2.68245,
     "end_time": "2024-09-24T21:21:39.559634",
     "exception": false,
     "start_time": "2024-09-24T21:21:36.877184",
     "status": "completed"
    },
    "tags": []
   },
   "outputs": [
    {
     "name": "stdout",
     "output_type": "stream",
     "text": [
      "First 5 sentences: ['[Emma by Jane Austen 1816]\\n\\nVOLUME I\\n\\nCHAPTER I\\n\\n\\nEmma Woodhouse, handsome, clever, and rich, with a comfortable home\\nand happy disposition, seemed to unite some of the best blessings\\nof existence; and had lived nearly twenty-one years in the world\\nwith very little to distress or vex her.', \"She was the youngest of the two daughters of a most affectionate,\\nindulgent father; and had, in consequence of her sister's marriage,\\nbeen mistress of his house from a very early period.\", 'Her mother\\nhad died too long ago for her to have more than an indistinct\\nremembrance of her caresses; and her place had been supplied\\nby an excellent woman as governess, who had fallen little short\\nof a mother in affection.', \"Sixteen years had Miss Taylor been in Mr. Woodhouse's family,\\nless as a governess than a friend, very fond of both daughters,\\nbut particularly of Emma.\", 'Between _them_ it was more the intimacy\\nof sisters.']\n",
      "First 20 words: ['[', 'Emma', 'by', 'Jane', 'Austen', '1816', ']', 'VOLUME', 'I', 'CHAPTER', 'I', 'Emma', 'Woodhouse', ',', 'handsome', ',', 'clever', ',', 'and', 'rich']\n"
     ]
    }
   ],
   "source": [
    "# Load a Text from the Gutenberg Project\n",
    "emma_text = gutenberg.raw('austen-emma.txt')\n",
    "\n",
    "# Tokenization into words and sentences\n",
    "words = word_tokenize(emma_text)\n",
    "sentences = sent_tokenize(emma_text)\n",
    "\n",
    "# Display the first few sentences and words to understand the data\n",
    "print(\"First 5 sentences:\", sentences[:5])\n",
    "print(\"First 20 words:\", words[:20])\n"
   ]
  },
  {
   "cell_type": "markdown",
   "id": "f3b98f02",
   "metadata": {
    "papermill": {
     "duration": 0.007899,
     "end_time": "2024-09-24T21:21:39.574481",
     "exception": false,
     "start_time": "2024-09-24T21:21:39.566582",
     "status": "completed"
    },
    "tags": []
   },
   "source": [
    "3. Frequency Distribution\n",
    "\n",
    "I calculate the frequency distribution of the words in the text, which helps me identify the most common words used in the novel."
   ]
  },
  {
   "cell_type": "code",
   "execution_count": 4,
   "id": "096c88d3",
   "metadata": {
    "execution": {
     "iopub.execute_input": "2024-09-24T21:21:39.589303Z",
     "iopub.status.busy": "2024-09-24T21:21:39.588632Z",
     "iopub.status.idle": "2024-09-24T21:21:39.763429Z",
     "shell.execute_reply": "2024-09-24T21:21:39.762043Z"
    },
    "papermill": {
     "duration": 0.184644,
     "end_time": "2024-09-24T21:21:39.765699",
     "exception": false,
     "start_time": "2024-09-24T21:21:39.581055",
     "status": "completed"
    },
    "tags": []
   },
   "outputs": [
    {
     "name": "stdout",
     "output_type": "stream",
     "text": [
      "Most common 10 words: [(',', 12016), ('.', 6355), ('to', 5124), ('the', 4842), ('and', 4652), ('of', 4272), ('I', 3164), ('--', 3100), ('a', 3001), (\"''\", 2452)]\n"
     ]
    }
   ],
   "source": [
    "# Frequency Distribution\n",
    "fdist = FreqDist(words)\n",
    "print(\"Most common 10 words:\", fdist.most_common(10))\n"
   ]
  },
  {
   "cell_type": "markdown",
   "id": "9c87edf0",
   "metadata": {
    "papermill": {
     "duration": 0.006705,
     "end_time": "2024-09-24T21:21:39.779439",
     "exception": false,
     "start_time": "2024-09-24T21:21:39.772734",
     "status": "completed"
    },
    "tags": []
   },
   "source": [
    "4. Bigram Collocations\n",
    "\n",
    "Collocations are pairs of words that frequently occur together. I calculate the top 10 most frequent bigrams in Emma using pointwise mutual information (PMI)."
   ]
  },
  {
   "cell_type": "code",
   "execution_count": 5,
   "id": "e566e18b",
   "metadata": {
    "execution": {
     "iopub.execute_input": "2024-09-24T21:21:39.794920Z",
     "iopub.status.busy": "2024-09-24T21:21:39.794511Z",
     "iopub.status.idle": "2024-09-24T21:21:40.937922Z",
     "shell.execute_reply": "2024-09-24T21:21:40.936548Z"
    },
    "papermill": {
     "duration": 1.153806,
     "end_time": "2024-09-24T21:21:40.940196",
     "exception": false,
     "start_time": "2024-09-24T21:21:39.786390",
     "status": "completed"
    },
    "tags": []
   },
   "outputs": [
    {
     "name": "stdout",
     "output_type": "stream",
     "text": [
      "Top 10 bigram collocations: [('26th', 'ult.'), ('Abominable', 'scoundrel'), ('Agricultural', 'Reports'), ('Austen', '1816'), ('Baronne', \"d'Almane\"), ('Candles', 'everywhere.'), ('Clayton', 'Park'), ('Comtesse', \"d'Ostalis\"), ('DEAR', 'MADAM'), ('Farmer', 'Mitchell')]\n"
     ]
    }
   ],
   "source": [
    "# Collocations\n",
    "bigram_measures = BigramAssocMeasures()\n",
    "finder = BigramCollocationFinder.from_words(words)\n",
    "collocations = finder.nbest(bigram_measures.pmi, 10)\n",
    "print(\"Top 10 bigram collocations:\", collocations)\n"
   ]
  },
  {
   "cell_type": "markdown",
   "id": "d5f0d41d",
   "metadata": {
    "papermill": {
     "duration": 0.006999,
     "end_time": "2024-09-24T21:21:40.954588",
     "exception": false,
     "start_time": "2024-09-24T21:21:40.947589",
     "status": "completed"
    },
    "tags": []
   },
   "source": [
    "5. Text Preprocessing: Removing Stopwords and Punctuation\n",
    "\n",
    "To focus on meaningful words, I remove stopwords (common words like \"the\", \"is\", etc.) and punctuation from the text."
   ]
  },
  {
   "cell_type": "code",
   "execution_count": 6,
   "id": "dac3e742",
   "metadata": {
    "execution": {
     "iopub.execute_input": "2024-09-24T21:21:40.970734Z",
     "iopub.status.busy": "2024-09-24T21:21:40.970353Z",
     "iopub.status.idle": "2024-09-24T21:21:41.031117Z",
     "shell.execute_reply": "2024-09-24T21:21:41.029966Z"
    },
    "papermill": {
     "duration": 0.071513,
     "end_time": "2024-09-24T21:21:41.033369",
     "exception": false,
     "start_time": "2024-09-24T21:21:40.961856",
     "status": "completed"
    },
    "tags": []
   },
   "outputs": [
    {
     "name": "stdout",
     "output_type": "stream",
     "text": [
      "First 20 filtered words: ['Emma', 'Jane', 'Austen', '1816', 'VOLUME', 'CHAPTER', 'Emma', 'Woodhouse', 'handsome', 'clever', 'rich', 'comfortable', 'home', 'happy', 'disposition', 'seemed', 'unite', 'best', 'blessings', 'existence']\n"
     ]
    }
   ],
   "source": [
    "# Remove stop words and punctuation\n",
    "stop_words = set(stopwords.words('english'))\n",
    "words_filtered = [word for word in words if word.isalnum() and word.lower() not in stop_words]\n",
    "\n",
    "# Display the first few filtered words\n",
    "print(\"First 20 filtered words:\", words_filtered[:20])\n"
   ]
  },
  {
   "cell_type": "markdown",
   "id": "c2fc00da",
   "metadata": {
    "papermill": {
     "duration": 0.006922,
     "end_time": "2024-09-24T21:21:41.047496",
     "exception": false,
     "start_time": "2024-09-24T21:21:41.040574",
     "status": "completed"
    },
    "tags": []
   },
   "source": [
    "6. Updated Frequency Distribution\n",
    "\n",
    "After removing stopwords and punctuation, I recalculate the frequency distribution to better understand the most common meaningful words in the text."
   ]
  },
  {
   "cell_type": "code",
   "execution_count": 7,
   "id": "9e7bf4ce",
   "metadata": {
    "execution": {
     "iopub.execute_input": "2024-09-24T21:21:41.063581Z",
     "iopub.status.busy": "2024-09-24T21:21:41.062840Z",
     "iopub.status.idle": "2024-09-24T21:21:41.129085Z",
     "shell.execute_reply": "2024-09-24T21:21:41.128146Z"
    },
    "papermill": {
     "duration": 0.076665,
     "end_time": "2024-09-24T21:21:41.131297",
     "exception": false,
     "start_time": "2024-09-24T21:21:41.054632",
     "status": "completed"
    },
    "tags": []
   },
   "outputs": [
    {
     "name": "stdout",
     "output_type": "stream",
     "text": [
      "Most common 10 filtered words: [('Emma', 855), ('could', 824), ('would', 813), ('Miss', 590), ('must', 563), ('Harriet', 496), ('said', 483), ('much', 476), ('Weston', 429), ('one', 408)]\n"
     ]
    }
   ],
   "source": [
    "# Recalculate Frequency Distribution with Filtered Words\n",
    "fdist_filtered = FreqDist(words_filtered)\n",
    "print(\"Most common 10 filtered words:\", fdist_filtered.most_common(10))\n"
   ]
  },
  {
   "cell_type": "markdown",
   "id": "cdf8861a",
   "metadata": {
    "papermill": {
     "duration": 0.007156,
     "end_time": "2024-09-24T21:21:41.145631",
     "exception": false,
     "start_time": "2024-09-24T21:21:41.138475",
     "status": "completed"
    },
    "tags": []
   },
   "source": [
    "7. Visualizing the Top 30 Words\n",
    "\n",
    "I create a frequency plot to visualize the top 30 words in the text after filtering."
   ]
  },
  {
   "cell_type": "code",
   "execution_count": 8,
   "id": "dd9b1efa",
   "metadata": {
    "execution": {
     "iopub.execute_input": "2024-09-24T21:21:41.161003Z",
     "iopub.status.busy": "2024-09-24T21:21:41.160640Z",
     "iopub.status.idle": "2024-09-24T21:21:41.563240Z",
     "shell.execute_reply": "2024-09-24T21:21:41.562156Z"
    },
    "papermill": {
     "duration": 0.413052,
     "end_time": "2024-09-24T21:21:41.565707",
     "exception": false,
     "start_time": "2024-09-24T21:21:41.152655",
     "status": "completed"
    },
    "tags": []
   },
   "outputs": [
    {
     "data": {
      "image/png": "[encoded data removed]",
      "text/plain": [
       "<Figure size 640x480 with 1 Axes>"
      ]
     },
     "metadata": {},
     "output_type": "display_data"
    }
   ],
   "source": [
    "# Visualize the frequency distribution of the top 30 words\n",
    "fdist_filtered.plot(30, cumulative=False)\n",
    "plt.show()\n"
   ]
  },
  {
   "cell_type": "markdown",
   "id": "78b9315e",
   "metadata": {
    "papermill": {
     "duration": 0.00755,
     "end_time": "2024-09-24T21:21:41.581412",
     "exception": false,
     "start_time": "2024-09-24T21:21:41.573862",
     "status": "completed"
    },
    "tags": []
   },
   "source": [
    "8. Part-of-Speech (POS) Tagging\n",
    "\n",
    "I perform POS tagging to identify the grammatical role of each word (e.g., nouns, verbs, adjectives). This gives me insight into the structure of the sentences in Emma."
   ]
  },
  {
   "cell_type": "code",
   "execution_count": 9,
   "id": "748d52b0",
   "metadata": {
    "execution": {
     "iopub.execute_input": "2024-09-24T21:21:41.598641Z",
     "iopub.status.busy": "2024-09-24T21:21:41.598252Z",
     "iopub.status.idle": "2024-09-24T21:21:47.361367Z",
     "shell.execute_reply": "2024-09-24T21:21:47.360361Z"
    },
    "papermill": {
     "duration": 5.774721,
     "end_time": "2024-09-24T21:21:47.364030",
     "exception": false,
     "start_time": "2024-09-24T21:21:41.589309",
     "status": "completed"
    },
    "tags": []
   },
   "outputs": [
    {
     "name": "stdout",
     "output_type": "stream",
     "text": [
      "First 20 POS-tagged words: [('Emma', 'NNP'), ('Jane', 'NNP'), ('Austen', 'NNP'), ('1816', 'CD'), ('VOLUME', 'NNP'), ('CHAPTER', 'NNP'), ('Emma', 'NNP'), ('Woodhouse', 'NNP'), ('handsome', 'VBD'), ('clever', 'NN'), ('rich', 'JJ'), ('comfortable', 'JJ'), ('home', 'NN'), ('happy', 'JJ'), ('disposition', 'NN'), ('seemed', 'VBD'), ('unite', 'JJ'), ('best', 'JJS'), ('blessings', 'NNS'), ('existence', 'NN')]\n"
     ]
    }
   ],
   "source": [
    "# POS Tagging\n",
    "pos_tags = nltk.pos_tag(words_filtered)\n",
    "print(\"First 20 POS-tagged words:\", pos_tags[:20])\n"
   ]
  },
  {
   "cell_type": "markdown",
   "id": "c39dbd38",
   "metadata": {
    "papermill": {
     "duration": 0.008083,
     "end_time": "2024-09-24T21:21:47.380635",
     "exception": false,
     "start_time": "2024-09-24T21:21:47.372552",
     "status": "completed"
    },
    "tags": []
   },
   "source": [
    "9. Named Entity Recognition (NER)\n",
    "\n",
    "Finally, I perform Named Entity Recognition (NER) to identify and classify named entities (people, locations, organizations) in the text."
   ]
  },
  {
   "cell_type": "code",
   "execution_count": 10,
   "id": "81acf72d",
   "metadata": {
    "execution": {
     "iopub.execute_input": "2024-09-24T21:21:47.399327Z",
     "iopub.status.busy": "2024-09-24T21:21:47.398931Z",
     "iopub.status.idle": "2024-09-24T21:22:08.252108Z",
     "shell.execute_reply": "2024-09-24T21:22:08.251007Z"
    },
    "papermill": {
     "duration": 20.866011,
     "end_time": "2024-09-24T21:22:08.255071",
     "exception": false,
     "start_time": "2024-09-24T21:21:47.389060",
     "status": "completed"
    },
    "tags": []
   },
   "outputs": [
    {
     "name": "stdout",
     "output_type": "stream",
     "text": [
      "Named Entities: [Tree('PERSON', [('Emma', 'NNP')]), Tree('PERSON', [('Jane', 'NNP'), ('Austen', 'NNP')]), ('1816', 'CD'), Tree('ORGANIZATION', [('VOLUME', 'NNP')]), ('CHAPTER', 'NNP'), ('Emma', 'NNP'), Tree('PERSON', [('Woodhouse', 'NNP')]), ('handsome', 'VBD'), ('clever', 'NN'), ('rich', 'JJ'), ('comfortable', 'JJ'), ('home', 'NN'), ('happy', 'JJ'), ('disposition', 'NN'), ('seemed', 'VBD'), ('unite', 'JJ'), ('best', 'JJS'), ('blessings', 'NNS'), ('existence', 'NN'), ('lived', 'VBD')]\n"
     ]
    }
   ],
   "source": [
    "# Named Entity Recognition\n",
    "named_entities = nltk.ne_chunk(pos_tags)\n",
    "print(\"Named Entities:\", named_entities[:20])\n"
   ]
  },
  {
   "cell_type": "markdown",
   "id": "1af23b5e",
   "metadata": {
    "papermill": {
     "duration": 0.009157,
     "end_time": "2024-09-24T21:22:08.276106",
     "exception": false,
     "start_time": "2024-09-24T21:22:08.266949",
     "status": "completed"
    },
    "tags": []
   },
   "source": [
    "Conclusion\n",
    "\n",
    "In this notebook, I used NLTK to analyze Emma by Jane Austen. I explored various NLP tasks like tokenization, frequency analysis, bigram collocations, POS tagging, and named entity recognition. These techniques allowed me to extract meaningful insights from the text, showcasing the power of NLP for classic literary analysis.\n",
    "\n"
   ]
  }
 ],
 "metadata": {
  "kaggle": {
   "accelerator": "none",
   "dataSources": [],
   "dockerImageVersionId": 30775,
   "isGpuEnabled": false,
   "isInternetEnabled": false,
   "language": "python",
   "sourceType": "notebook"
  },
  "kernelspec": {
   "display_name": "Python 3",
   "language": "python",
   "name": "python3"
  },
  "language_info": {
   "codemirror_mode": {
    "name": "ipython",
    "version": 3
   },
   "file_extension": ".py",
   "mimetype": "text/x-python",
   "name": "python",
   "nbconvert_exporter": "python",
   "pygments_lexer": "ipython3",
   "version": "3.10.14"
  },
  "papermill": {
   "default_parameters": {},
   "duration": 169.582116,
   "end_time": "2024-09-24T21:22:08.805999",
   "environment_variables": {},
   "exception": null,
   "input_path": "__notebook__.ipynb",
   "output_path": "__notebook__.ipynb",
   "parameters": {},
   "start_time": "2024-09-24T21:19:19.223883",
   "version": "2.6.0"
  }
 },
 "nbformat": 4,
 "nbformat_minor": 5
}
